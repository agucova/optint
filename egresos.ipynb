{
 "cells": [
  {
   "cell_type": "markdown",
   "metadata": {},
   "source": [
    "\n",
    "# Análisis y simulación de egresos"
   ]
  },
  {
   "cell_type": "markdown",
   "metadata": {},
   "source": [
    "## Dependencies"
   ]
  },
  {
   "cell_type": "code",
   "execution_count": 72,
   "metadata": {},
   "outputs": [],
   "source": [
    "import pandas as pd\n",
    "from datetime import datetime, timedelta, date"
   ]
  },
  {
   "cell_type": "markdown",
   "metadata": {},
   "source": [
    "## Import data"
   ]
  },
  {
   "cell_type": "code",
   "execution_count": 12,
   "metadata": {},
   "outputs": [],
   "source": [
    "# Downloadable at https://repositoriodeis.minsal.cl/DatosAbiertos/EGRESOS/Egresos_Hospitalarios_2020.zip\n",
    "\n",
    "cols = [\n",
    "    \"ESTABLECIMIENTO_SALUD\",\n",
    "    \"GLOSA_ESTABLECIMIENTO_SALUD\",\n",
    "    \"SEXO\",\n",
    "    \"TIPO_EDAD\",\n",
    "    \"EDAD_CANT\",\n",
    "    \"ANO_EGRESO\",\n",
    "    \"FECHA_EGRESO\",\n",
    "    \"AREA_FUNCIONAL_EGRESO\",\n",
    "    \"DIAS_ESTADA\",\n",
    "    \"CONDICION_EGRESO\",\n",
    "    \"DIAG1\",\n",
    "    \"GLOSA_DIAG1\",\n",
    "    \"DIAG2\",\n",
    "    \"GLOSA_DIAG2\",\n",
    "    \"INTERV_Q\",\n",
    "    \"PROCED\",\n",
    "    \"CODIGO_PROCED_PPAL\",\n",
    "]\n",
    "\n",
    "with open(\"data/egresos_2020.csv\", \"r\", encoding=\"latin-1\") as f:\n",
    "    df = pd.read_csv(\n",
    "        f,\n",
    "        engine=\"c\",\n",
    "        sep=\";\",\n",
    "        encoding=\"iso-8859-1\",\n",
    "        parse_dates=[\"FECHA_EGRESO\"],\n",
    "        dayfirst=True,\n",
    "        infer_datetime_format=True,\n",
    "        error_bad_lines=False,\n",
    "        usecols=cols\n",
    "    )\n"
   ]
  },
  {
   "cell_type": "markdown",
   "metadata": {},
   "source": [
    "## Filtering"
   ]
  },
  {
   "cell_type": "code",
   "execution_count": 74,
   "metadata": {},
   "outputs": [],
   "source": [
    "# Filtrar para solo 2020 y el Hospital San José de Melipilla\n",
    "patients = df[df[\"ESTABLECIMIENTO_SALUD\"] == 110150].reset_index(drop=True)"
   ]
  },
  {
   "cell_type": "markdown",
   "metadata": {},
   "source": [
    "## Prepare columns"
   ]
  },
  {
   "cell_type": "code",
   "execution_count": 20,
   "metadata": {},
   "outputs": [
    {
     "data": {
      "text/html": "<div>\n<style scoped>\n    .dataframe tbody tr th:only-of-type {\n        vertical-align: middle;\n    }\n\n    .dataframe tbody tr th {\n        vertical-align: top;\n    }\n\n    .dataframe thead th {\n        text-align: right;\n    }\n</style>\n<table border=\"1\" class=\"dataframe\">\n  <thead>\n    <tr style=\"text-align: right;\">\n      <th></th>\n      <th>ESTABLECIMIENTO_SALUD</th>\n      <th>GLOSA_ESTABLECIMIENTO_SALUD</th>\n      <th>SEXO</th>\n      <th>EDAD_CANT</th>\n      <th>TIPO_EDAD</th>\n      <th>ANO_EGRESO</th>\n      <th>FECHA_EGRESO</th>\n      <th>AREA_FUNCIONAL_EGRESO</th>\n      <th>DIAS_ESTADA</th>\n      <th>CONDICION_EGRESO</th>\n      <th>DIAG1</th>\n      <th>GLOSA_DIAG1</th>\n      <th>DIAG2</th>\n      <th>GLOSA_DIAG2</th>\n      <th>INTERV_Q</th>\n      <th>PROCED</th>\n      <th>CODIGO_PROCED_PPAL</th>\n    </tr>\n  </thead>\n  <tbody>\n    <tr>\n      <th>0</th>\n      <td>110150</td>\n      <td>Hospital San José (Melipilla)</td>\n      <td>1</td>\n      <td>33</td>\n      <td>1</td>\n      <td>2020</td>\n      <td>2020-08-27</td>\n      <td>403</td>\n      <td>6</td>\n      <td>1</td>\n      <td>N481</td>\n      <td>BALANOPOSTITIS</td>\n      <td>NaN</td>\n      <td>NaN</td>\n      <td>2</td>\n      <td>2</td>\n      <td>NaN</td>\n    </tr>\n    <tr>\n      <th>1</th>\n      <td>110150</td>\n      <td>Hospital San José (Melipilla)</td>\n      <td>2</td>\n      <td>81</td>\n      <td>1</td>\n      <td>2020</td>\n      <td>2020-01-22</td>\n      <td>403</td>\n      <td>11</td>\n      <td>1</td>\n      <td>I470</td>\n      <td>ARRITMIA POR REENTRADA VENTRICULAR</td>\n      <td>NaN</td>\n      <td>NaN</td>\n      <td>2</td>\n      <td>2</td>\n      <td>NaN</td>\n    </tr>\n    <tr>\n      <th>2</th>\n      <td>110150</td>\n      <td>Hospital San José (Melipilla)</td>\n      <td>1</td>\n      <td>3</td>\n      <td>3</td>\n      <td>2020</td>\n      <td>2020-09-16</td>\n      <td>413</td>\n      <td>1</td>\n      <td>1</td>\n      <td>P599</td>\n      <td>ICTERICIA NEONATAL, NO ESPECIFICADA</td>\n      <td>NaN</td>\n      <td>NaN</td>\n      <td>2</td>\n      <td>2</td>\n      <td>NaN</td>\n    </tr>\n    <tr>\n      <th>3</th>\n      <td>110150</td>\n      <td>Hospital San José (Melipilla)</td>\n      <td>2</td>\n      <td>23</td>\n      <td>1</td>\n      <td>2020</td>\n      <td>2020-10-05</td>\n      <td>416</td>\n      <td>1</td>\n      <td>1</td>\n      <td>O600</td>\n      <td>TRABAJO DE PARTO PREMATURO SIN PARTO</td>\n      <td>NaN</td>\n      <td>NaN</td>\n      <td>2</td>\n      <td>2</td>\n      <td>NaN</td>\n    </tr>\n    <tr>\n      <th>4</th>\n      <td>110150</td>\n      <td>Hospital San José (Melipilla)</td>\n      <td>2</td>\n      <td>55</td>\n      <td>1</td>\n      <td>2020</td>\n      <td>2020-04-17</td>\n      <td>403</td>\n      <td>12</td>\n      <td>1</td>\n      <td>I500</td>\n      <td>INSUFICIENCIA CARDIACA CONGESTIVA</td>\n      <td>NaN</td>\n      <td>NaN</td>\n      <td>2</td>\n      <td>2</td>\n      <td>NaN</td>\n    </tr>\n  </tbody>\n</table>\n</div>",
      "text/plain": "   ESTABLECIMIENTO_SALUD    GLOSA_ESTABLECIMIENTO_SALUD  SEXO  EDAD_CANT  \\\n0                 110150  Hospital San José (Melipilla)     1         33   \n1                 110150  Hospital San José (Melipilla)     2         81   \n2                 110150  Hospital San José (Melipilla)     1          3   \n3                 110150  Hospital San José (Melipilla)     2         23   \n4                 110150  Hospital San José (Melipilla)     2         55   \n\n   TIPO_EDAD  ANO_EGRESO FECHA_EGRESO  AREA_FUNCIONAL_EGRESO  DIAS_ESTADA  \\\n0          1        2020   2020-08-27                    403            6   \n1          1        2020   2020-01-22                    403           11   \n2          3        2020   2020-09-16                    413            1   \n3          1        2020   2020-10-05                    416            1   \n4          1        2020   2020-04-17                    403           12   \n\n   CONDICION_EGRESO DIAG1                           GLOSA_DIAG1 DIAG2  \\\n0                 1  N481                        BALANOPOSTITIS   NaN   \n1                 1  I470    ARRITMIA POR REENTRADA VENTRICULAR   NaN   \n2                 1  P599   ICTERICIA NEONATAL, NO ESPECIFICADA   NaN   \n3                 1  O600  TRABAJO DE PARTO PREMATURO SIN PARTO   NaN   \n4                 1  I500     INSUFICIENCIA CARDIACA CONGESTIVA   NaN   \n\n  GLOSA_DIAG2  INTERV_Q  PROCED  CODIGO_PROCED_PPAL  \n0         NaN         2       2                 NaN  \n1         NaN         2       2                 NaN  \n2         NaN         2       2                 NaN  \n3         NaN         2       2                 NaN  \n4         NaN         2       2                 NaN  "
     },
     "execution_count": 20,
     "metadata": {},
     "output_type": "execute_result"
    }
   ],
   "source": [
    "patients.head()"
   ]
  },
  {
   "cell_type": "code",
   "execution_count": 75,
   "metadata": {},
   "outputs": [],
   "source": [
    "patients[\"DIAS_ESTADA\"] = pd.to_timedelta(patients[\"DIAS_ESTADA\"], unit=\"days\")\n",
    "patients[\"FECHA_INGRESO\"] = patients[\"FECHA_EGRESO\"] - (patients[\"DIAS_ESTADA\"] - timedelta(days=1))"
   ]
  },
  {
   "cell_type": "code",
   "execution_count": 22,
   "metadata": {},
   "outputs": [
    {
     "data": {
      "text/html": "<div>\n<style scoped>\n    .dataframe tbody tr th:only-of-type {\n        vertical-align: middle;\n    }\n\n    .dataframe tbody tr th {\n        vertical-align: top;\n    }\n\n    .dataframe thead th {\n        text-align: right;\n    }\n</style>\n<table border=\"1\" class=\"dataframe\">\n  <thead>\n    <tr style=\"text-align: right;\">\n      <th></th>\n      <th>ESTABLECIMIENTO_SALUD</th>\n      <th>GLOSA_ESTABLECIMIENTO_SALUD</th>\n      <th>SEXO</th>\n      <th>EDAD_CANT</th>\n      <th>TIPO_EDAD</th>\n      <th>ANO_EGRESO</th>\n      <th>FECHA_EGRESO</th>\n      <th>AREA_FUNCIONAL_EGRESO</th>\n      <th>DIAS_ESTADA</th>\n      <th>CONDICION_EGRESO</th>\n      <th>DIAG1</th>\n      <th>GLOSA_DIAG1</th>\n      <th>DIAG2</th>\n      <th>GLOSA_DIAG2</th>\n      <th>INTERV_Q</th>\n      <th>PROCED</th>\n      <th>CODIGO_PROCED_PPAL</th>\n      <th>FECHA_INGRESO</th>\n    </tr>\n  </thead>\n  <tbody>\n    <tr>\n      <th>0</th>\n      <td>110150</td>\n      <td>Hospital San José (Melipilla)</td>\n      <td>1</td>\n      <td>33</td>\n      <td>1</td>\n      <td>2020</td>\n      <td>2020-08-27</td>\n      <td>403</td>\n      <td>6 days</td>\n      <td>1</td>\n      <td>N481</td>\n      <td>BALANOPOSTITIS</td>\n      <td>NaN</td>\n      <td>NaN</td>\n      <td>2</td>\n      <td>2</td>\n      <td>NaN</td>\n      <td>2020-08-21</td>\n    </tr>\n    <tr>\n      <th>1</th>\n      <td>110150</td>\n      <td>Hospital San José (Melipilla)</td>\n      <td>2</td>\n      <td>81</td>\n      <td>1</td>\n      <td>2020</td>\n      <td>2020-01-22</td>\n      <td>403</td>\n      <td>11 days</td>\n      <td>1</td>\n      <td>I470</td>\n      <td>ARRITMIA POR REENTRADA VENTRICULAR</td>\n      <td>NaN</td>\n      <td>NaN</td>\n      <td>2</td>\n      <td>2</td>\n      <td>NaN</td>\n      <td>2020-01-11</td>\n    </tr>\n    <tr>\n      <th>2</th>\n      <td>110150</td>\n      <td>Hospital San José (Melipilla)</td>\n      <td>1</td>\n      <td>3</td>\n      <td>3</td>\n      <td>2020</td>\n      <td>2020-09-16</td>\n      <td>413</td>\n      <td>1 days</td>\n      <td>1</td>\n      <td>P599</td>\n      <td>ICTERICIA NEONATAL, NO ESPECIFICADA</td>\n      <td>NaN</td>\n      <td>NaN</td>\n      <td>2</td>\n      <td>2</td>\n      <td>NaN</td>\n      <td>2020-09-15</td>\n    </tr>\n    <tr>\n      <th>3</th>\n      <td>110150</td>\n      <td>Hospital San José (Melipilla)</td>\n      <td>2</td>\n      <td>23</td>\n      <td>1</td>\n      <td>2020</td>\n      <td>2020-10-05</td>\n      <td>416</td>\n      <td>1 days</td>\n      <td>1</td>\n      <td>O600</td>\n      <td>TRABAJO DE PARTO PREMATURO SIN PARTO</td>\n      <td>NaN</td>\n      <td>NaN</td>\n      <td>2</td>\n      <td>2</td>\n      <td>NaN</td>\n      <td>2020-10-04</td>\n    </tr>\n    <tr>\n      <th>4</th>\n      <td>110150</td>\n      <td>Hospital San José (Melipilla)</td>\n      <td>2</td>\n      <td>55</td>\n      <td>1</td>\n      <td>2020</td>\n      <td>2020-04-17</td>\n      <td>403</td>\n      <td>12 days</td>\n      <td>1</td>\n      <td>I500</td>\n      <td>INSUFICIENCIA CARDIACA CONGESTIVA</td>\n      <td>NaN</td>\n      <td>NaN</td>\n      <td>2</td>\n      <td>2</td>\n      <td>NaN</td>\n      <td>2020-04-05</td>\n    </tr>\n  </tbody>\n</table>\n</div>",
      "text/plain": "   ESTABLECIMIENTO_SALUD    GLOSA_ESTABLECIMIENTO_SALUD  SEXO  EDAD_CANT  \\\n0                 110150  Hospital San José (Melipilla)     1         33   \n1                 110150  Hospital San José (Melipilla)     2         81   \n2                 110150  Hospital San José (Melipilla)     1          3   \n3                 110150  Hospital San José (Melipilla)     2         23   \n4                 110150  Hospital San José (Melipilla)     2         55   \n\n   TIPO_EDAD  ANO_EGRESO FECHA_EGRESO  AREA_FUNCIONAL_EGRESO DIAS_ESTADA  \\\n0          1        2020   2020-08-27                    403      6 days   \n1          1        2020   2020-01-22                    403     11 days   \n2          3        2020   2020-09-16                    413      1 days   \n3          1        2020   2020-10-05                    416      1 days   \n4          1        2020   2020-04-17                    403     12 days   \n\n   CONDICION_EGRESO DIAG1                           GLOSA_DIAG1 DIAG2  \\\n0                 1  N481                        BALANOPOSTITIS   NaN   \n1                 1  I470    ARRITMIA POR REENTRADA VENTRICULAR   NaN   \n2                 1  P599   ICTERICIA NEONATAL, NO ESPECIFICADA   NaN   \n3                 1  O600  TRABAJO DE PARTO PREMATURO SIN PARTO   NaN   \n4                 1  I500     INSUFICIENCIA CARDIACA CONGESTIVA   NaN   \n\n  GLOSA_DIAG2  INTERV_Q  PROCED  CODIGO_PROCED_PPAL FECHA_INGRESO  \n0         NaN         2       2                 NaN    2020-08-21  \n1         NaN         2       2                 NaN    2020-01-11  \n2         NaN         2       2                 NaN    2020-09-15  \n3         NaN         2       2                 NaN    2020-10-04  \n4         NaN         2       2                 NaN    2020-04-05  "
     },
     "execution_count": 22,
     "metadata": {},
     "output_type": "execute_result"
    }
   ],
   "source": [
    "patients.head()"
   ]
  },
  {
   "cell_type": "markdown",
   "metadata": {},
   "source": [
    "## Sample for severity"
   ]
  },
  {
   "cell_type": "code",
   "execution_count": 33,
   "metadata": {},
   "outputs": [],
   "source": [
    "patient_sample = patients.sample(n=30, random_state=70)\n",
    "patient_sample.to_csv(\"data/severity_sample.csv\")"
   ]
  },
  {
   "cell_type": "markdown",
   "metadata": {},
   "source": [
    "## Simulate admissions and discharges from the hospital"
   ]
  },
  {
   "cell_type": "code",
   "execution_count": 77,
   "metadata": {},
   "outputs": [],
   "source": [
    "# print(patients.groupby(\"DIAS_ESTADA\").count())\n",
    "frames = []\n",
    "for i, patient in patients.iterrows():\n",
    "    frames.append((patient[\"FECHA_INGRESO\"], patient[\"FECHA_EGRESO\"]))\n"
   ]
  },
  {
   "cell_type": "code",
   "execution_count": 69,
   "metadata": {},
   "outputs": [],
   "source": [
    "def daterange(start_date, end_date):\n",
    "    for n in range(int((end_date - start_date).days)):\n",
    "        yield start_date + timedelta(n)"
   ]
  },
  {
   "cell_type": "code",
   "execution_count": 105,
   "metadata": {},
   "outputs": [
    {
     "name": "stdout",
     "output_type": "stream",
     "text": [
      "Promedio de personas al día: 94.1\n",
      "Promedio de admisiones al dia 16.2\n",
      "Promedio de egresos al dia 16.2\n"
     ]
    }
   ],
   "source": [
    "n_in_hospital = []\n",
    "n_admissions = []\n",
    "n_discharges = []\n",
    "\n",
    "start_date = date(2020, 1, 1)\n",
    "end_date = date(2021, 1, 1)\n",
    "\n",
    "for today in daterange(start_date, end_date):\n",
    "    in_hospital = [(admission, discharge) for admission, discharge in frames if admission <= today <= discharge]\n",
    "    n_in_hospital.append(len(in_hospital))\n",
    "    admissions = [frame for frame in frames if frame[1].date() == today]\n",
    "    n_admissions.append(len(admissions))\n",
    "    discharges = [frame for frame in frames if frame[1].date() == today]\n",
    "    n_discharges.append(len(discharges))\n",
    "\n",
    "    # print(f\"El {today}, hay {len(in_hospital)} pacientes y {len(discharges)} egresaron.\")\n",
    "\n",
    "print(f\"Promedio de personas al día: {round(sum(n_in_hospital)/365, 1)}\")\n",
    "print(f\"Promedio de admisiones al dia {round(sum(n_admissions)/365, 1)}\")\n",
    "print(f\"Promedio de egresos al dia {round(sum(n_discharges)/365, 1)}\")\n"
   ]
  },
  {
   "cell_type": "code",
   "execution_count": null,
   "metadata": {},
   "outputs": [],
   "source": []
  }
 ],
 "metadata": {
  "kernelspec": {
   "display_name": "Python 3.8.8 64-bit ('.venv')",
   "name": "python388jvsc74a57bd0cb947f26f225211e801bddc1ee93f57601a480327152ba28ffe6e5e311f469b4"
  },
  "language_info": {
   "codemirror_mode": {
    "name": "ipython",
    "version": 3
   },
   "file_extension": ".py",
   "mimetype": "text/x-python",
   "name": "python",
   "nbconvert_exporter": "python",
   "pygments_lexer": "ipython3",
   "version": "3.8.8"
  },
  "orig_nbformat": 2
 },
 "nbformat": 4,
 "nbformat_minor": 2
}