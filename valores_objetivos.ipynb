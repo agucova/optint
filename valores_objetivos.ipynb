{
 "metadata": {
  "language_info": {
   "codemirror_mode": {
    "name": "ipython",
    "version": 3
   },
   "file_extension": ".py",
   "mimetype": "text/x-python",
   "name": "python",
   "nbconvert_exporter": "python",
   "pygments_lexer": "ipython3",
   "version": "3.8.8"
  },
  "orig_nbformat": 4,
  "kernelspec": {
   "name": "python3",
   "display_name": "Python 3.8.8 64-bit"
  },
  "interpreter": {
   "hash": "52451b727cc076e55b26693f4a12ce1bb3a0df6bd54864bd8e4ce26f8d734cd8"
  }
 },
 "nbformat": 4,
 "nbformat_minor": 2,
 "cells": [
  {
   "cell_type": "code",
   "execution_count": 1,
   "metadata": {},
   "outputs": [],
   "source": [
    "from model import optimize_beds"
   ]
  },
  {
   "cell_type": "code",
   "execution_count": 10,
   "metadata": {},
   "outputs": [
    {
     "output_type": "stream",
     "name": "stdout",
     "text": [
      "Objetivo 1\n"
     ]
    }
   ],
   "source": [
    "print(\"Objetivo 1\")\n",
    "general_metrics, metrics_by_block = optimize_beds(130, 100, [-1, 0, 0])\n",
    "peor_objetivo_1 = general_metrics[\"objective_1\"]\n",
    "print(general_metrics)\n",
    "# Peor caso: 3E4 aprox / 2.75E4\n",
    "# {'total_distance': 27585, 'beds_changed': 18, 'not_ideal': 339, 'status': 2, 'objetivo_1': 27585.0, 'objetivo_2': 71.0, 'objetivo_3': 339.0}\n",
    "\n",
    "general_metrics, metrics_by_block = optimize_beds(130, 100, [1, 0, 0])\n",
    "mejor_objetivo_1 = general_metrics[\"objective_1\"]\n",
    "print(general_metrics)\n",
    "# Mejor caso: 8.3E3\n",
    "# {'total_distance': 8365, 'beds_changed': 20, 'not_ideal': 330, 'status': 2, 'objetivo_1': 8365.0, 'objetivo_2': 69.0, 'objetivo_3': 330.0}"
   ]
  },
  {
   "cell_type": "code",
   "execution_count": null,
   "metadata": {},
   "outputs": [],
   "source": [
    "print(\"Objetivo 2\")\n",
    "general_metrics, metrics_by_block = optimize_beds(130, 100, [0, -1, 0])\n",
    "print(general_metrics)\n",
    "peor_objetivo_2 = general_metrics[\"objective_2\"]\n",
    "\n",
    "# Peor caso: 1.290000000000e+02\n",
    "# {'total_distance': 20495, 'beds_changed': 20, 'not_ideal': 359, 'status': 2, 'objetivo_1': 20495.0, 'objetivo_2': 129.0, 'objetivo_3': 359.0}\n",
    "\n",
    "general_metrics, metrics_by_block = optimize_beds(130, 100, [0, 1, 0])\n",
    "print(general_metrics)\n",
    "mejor_objetivo_2 = general_metrics[\"objective_2\"]\n",
    "# Mejor caso: 0\n",
    "# {'total_distance': 18980, 'beds_changed': 1, 'not_ideal': 358, 'status': 2, 'objetivo_1': 18980.0, 'objetivo_2': 0.0, 'objetivo_3': 358.0}"
   ]
  },
  {
   "cell_type": "code",
   "execution_count": null,
   "metadata": {},
   "outputs": [],
   "source": [
    "print(\"Objetivo 3\")\n",
    "general_metrics, metrics_by_block = optimize_beds(130, 100, [0, 0, -1])\n",
    "print(general_metrics)\n",
    "peor_objetivo_3 = general_metrics[\"objective_3\"]\n",
    "# Peor caso: 686.0\n",
    "# {'total_distance': 20735, 'beds_changed': 18, 'not_ideal': 686, 'status': 2, 'objetivo_1': 20735.0, 'objetivo_2': 78.0, 'objetivo_3': 686.0}\n",
    "\n",
    "general_metrics, metrics_by_block = optimize_beds(130, 100, [0, 0, 1])\n",
    "print(general_metrics)\n",
    "mejor_objetivo_3 = general_metrics[\"objective_3\"]\n",
    "# Mejor caso: 24.0\n",
    "# {'total_distance': 19210, 'beds_changed': 20, 'not_ideal': 24, 'status': 2, 'objetivo_1': 19210.0, 'objetivo_2': 75.0, 'objetivo_3': 24.0}"
   ]
  },
  {
   "cell_type": "code",
   "execution_count": 1,
   "metadata": {},
   "outputs": [
    {
     "output_type": "stream",
     "name": "stdout",
     "text": [
      "Promedio de cambio objective 1 : 18.4375\nPromedio de cambio objective 2: 4\nPromedio de cambio objective 3: 1\n\nIterador ajustado: 1\nIterador ajustado: 4.609375\nIterador ajustado: 18.4375\n"
     ]
    }
   ],
   "source": [
    "D = [\n",
    "    [0, 5, 40, 35, 30, 25, 25, 15],\n",
    "    [5, 0, 35, 30, 25, 10, 20, 10],\n",
    "    [40, 35, 0, 5, 20, 30, 15, 25],\n",
    "    [35, 30, 5, 0, 15, 25, 10, 20],\n",
    "    [30, 25, 20, 15, 0, 15, 25, 35],\n",
    "    [25, 10, 30, 25, 15, 0, 15, 20],\n",
    "    [25, 20, 15, 10, 25, 15, 0, 10],\n",
    "    [15, 10, 25, 20, 35, 20, 10, 0]\n",
    "] \n",
    "prom = sum(j for i in D for j in i) / (len(D) * len(D[0])) \n",
    "print(f\"Promedio de cambio objective 1 : {prom}\") \n",
    "print(f\"Promedio de cambio objective 2: {4}\")\n",
    "print(f\"Promedio de cambio objective 3: {1}\")\n",
    "print()\n",
    "print(f\"Iterador ajustado: {1}\")\n",
    "print(f\"Iterador ajustado: {prom / 4}\")\n",
    "print(f\"Iterador ajustado: {prom / 1}\" )"
   ]
  },
  {
   "source": [
    "Asumiendo que W1 = 1, se calculara un ponderador para que `prom_obj_2 * w_2 = prom_obj_1`, calculamos a continuacion los pesos."
   ],
   "cell_type": "markdown",
   "metadata": {}
  },
  {
   "cell_type": "code",
   "execution_count": 13,
   "metadata": {},
   "outputs": [
    {
     "output_type": "stream",
     "name": "stdout",
     "text": [
      "W2: 278.6821705426357\nW1: 50.63380281690141\n"
     ]
    }
   ],
   "source": [
    "print(\"W2:\", (mejor_objetivo_1 + peor_objetivo_1) / (mejor_objetivo_2 + peor_objetivo_2))\n",
    "print(\"W3:\", (mejor_objetivo_1 + peor_objetivo_1) / (mejor_objetivo_3 + peor_objetivo_3))"
   ]
  },
  {
   "source": [
    "Se puede concluir que estos son los pesos para que cada funcion sea igual de importante.\n"
   ],
   "cell_type": "markdown",
   "metadata": {}
  },
  {
   "cell_type": "code",
   "execution_count": 11,
   "metadata": {},
   "outputs": [
    {
     "output_type": "stream",
     "name": "stdout",
     "text": [
      "Academic license - for non-commercial use only - expires 2021-08-13\n",
      "Using license file C:\\Users\\iamsm\\gurobi.lic\n",
      "Using gurobi.env file\n"
     ]
    },
    {
     "output_type": "error",
     "ename": "NotImplementedError",
     "evalue": "",
     "traceback": [
      "\u001b[1;31m---------------------------------------------------------------------------\u001b[0m",
      "\u001b[1;31mNotImplementedError\u001b[0m                       Traceback (most recent call last)",
      "\u001b[1;32m<ipython-input-11-bafae8560446>\u001b[0m in \u001b[0;36m<module>\u001b[1;34m\u001b[0m\n\u001b[1;32m----> 1\u001b[1;33m \u001b[0mgeneral_metrics\u001b[0m\u001b[1;33m,\u001b[0m \u001b[0mmetrics_by_block\u001b[0m \u001b[1;33m=\u001b[0m \u001b[0moptimize_beds\u001b[0m\u001b[1;33m(\u001b[0m\u001b[1;36m130\u001b[0m\u001b[1;33m,\u001b[0m \u001b[1;36m100\u001b[0m\u001b[1;33m,\u001b[0m \u001b[1;33m[\u001b[0m\u001b[1;36m1\u001b[0m\u001b[1;33m,\u001b[0m \u001b[1;36m277\u001b[0m\u001b[1;33m,\u001b[0m \u001b[1;36m50\u001b[0m\u001b[1;33m]\u001b[0m\u001b[1;33m)\u001b[0m\u001b[1;33m\u001b[0m\u001b[1;33m\u001b[0m\u001b[0m\n\u001b[0m\u001b[0;32m      2\u001b[0m \u001b[0mmetricas_ajuste\u001b[0m \u001b[1;33m=\u001b[0m \u001b[0mgeneral_metrics\u001b[0m\u001b[1;33m\u001b[0m\u001b[1;33m\u001b[0m\u001b[0m\n\u001b[0;32m      3\u001b[0m \u001b[0mprint\u001b[0m\u001b[1;33m(\u001b[0m\u001b[0mgeneral_metrics\u001b[0m\u001b[1;33m)\u001b[0m\u001b[1;33m\u001b[0m\u001b[1;33m\u001b[0m\u001b[0m\n\u001b[0;32m      4\u001b[0m \u001b[1;33m\u001b[0m\u001b[0m\n\u001b[0;32m      5\u001b[0m \u001b[0mgeneral_metrics\u001b[0m\u001b[1;33m,\u001b[0m \u001b[0mmetrics_by_block\u001b[0m \u001b[1;33m=\u001b[0m \u001b[0moptimize_beds\u001b[0m\u001b[1;33m(\u001b[0m\u001b[1;36m130\u001b[0m\u001b[1;33m,\u001b[0m \u001b[1;36m100\u001b[0m\u001b[1;33m,\u001b[0m \u001b[1;33m[\u001b[0m\u001b[1;36m10\u001b[0m\u001b[1;33m,\u001b[0m \u001b[1;36m3\u001b[0m\u001b[1;33m,\u001b[0m \u001b[1;36m7\u001b[0m\u001b[1;33m]\u001b[0m\u001b[1;33m)\u001b[0m\u001b[1;33m\u001b[0m\u001b[1;33m\u001b[0m\u001b[0m\n",
      "\u001b[1;32mc:\\Users\\iamsm\\Documents\\Acceso UC\\Opti\\Proyecto\\optint\\model.py\u001b[0m in \u001b[0;36moptimize_beds\u001b[1;34m(n_beds, n_patients, cost)\u001b[0m\n\u001b[0;32m    118\u001b[0m \u001b[1;33m\u001b[0m\u001b[0m\n\u001b[0;32m    119\u001b[0m         \u001b[1;31m# R4: No se puede trasladar a los pacientes críticos\u001b[0m\u001b[1;33m\u001b[0m\u001b[1;33m\u001b[0m\u001b[1;33m\u001b[0m\u001b[0m\n\u001b[1;32m--> 120\u001b[1;33m         \u001b[0mm\u001b[0m\u001b[1;33m.\u001b[0m\u001b[0maddConstrs\u001b[0m\u001b[1;33m(\u001b[0m\u001b[1;33m(\u001b[0m\u001b[0mS\u001b[0m\u001b[1;33m[\u001b[0m\u001b[0mp\u001b[0m\u001b[1;33m]\u001b[0m \u001b[1;33m*\u001b[0m \u001b[0mZ\u001b[0m\u001b[1;33m[\u001b[0m\u001b[0mp\u001b[0m\u001b[1;33m,\u001b[0m \u001b[0mt\u001b[0m\u001b[1;33m]\u001b[0m \u001b[1;33m<=\u001b[0m \u001b[0mQ\u001b[0m \u001b[1;32mfor\u001b[0m \u001b[0mp\u001b[0m \u001b[1;32min\u001b[0m \u001b[0mP\u001b[0m \u001b[1;32mfor\u001b[0m \u001b[0mt\u001b[0m \u001b[1;32min\u001b[0m \u001b[0mT\u001b[0m\u001b[1;33m)\u001b[0m\u001b[1;33m,\u001b[0m \u001b[0mname\u001b[0m\u001b[1;33m=\u001b[0m\u001b[1;34m\"R4\"\u001b[0m\u001b[1;33m)\u001b[0m\u001b[1;33m\u001b[0m\u001b[1;33m\u001b[0m\u001b[0m\n\u001b[0m\u001b[0;32m    121\u001b[0m \u001b[1;33m\u001b[0m\u001b[0m\n\u001b[0;32m    122\u001b[0m         \u001b[1;31m# R5: Un paciente puede estar en una cama no ideal\u001b[0m\u001b[1;33m\u001b[0m\u001b[1;33m\u001b[0m\u001b[1;33m\u001b[0m\u001b[0m\n",
      "\u001b[1;32msrc\\gurobipy\\model.pxi\u001b[0m in \u001b[0;36mgurobipy.Model.addConstrs\u001b[1;34m()\u001b[0m\n",
      "\u001b[1;32mc:\\Users\\iamsm\\Documents\\Acceso UC\\Opti\\Proyecto\\optint\\model.py\u001b[0m in \u001b[0;36m<genexpr>\u001b[1;34m(.0)\u001b[0m\n\u001b[0;32m    118\u001b[0m \u001b[1;33m\u001b[0m\u001b[0m\n\u001b[0;32m    119\u001b[0m         \u001b[1;31m# R4: No se puede trasladar a los pacientes críticos\u001b[0m\u001b[1;33m\u001b[0m\u001b[1;33m\u001b[0m\u001b[1;33m\u001b[0m\u001b[0m\n\u001b[1;32m--> 120\u001b[1;33m         \u001b[0mm\u001b[0m\u001b[1;33m.\u001b[0m\u001b[0maddConstrs\u001b[0m\u001b[1;33m(\u001b[0m\u001b[1;33m(\u001b[0m\u001b[0mS\u001b[0m\u001b[1;33m[\u001b[0m\u001b[0mp\u001b[0m\u001b[1;33m]\u001b[0m \u001b[1;33m*\u001b[0m \u001b[0mZ\u001b[0m\u001b[1;33m[\u001b[0m\u001b[0mp\u001b[0m\u001b[1;33m,\u001b[0m \u001b[0mt\u001b[0m\u001b[1;33m]\u001b[0m \u001b[1;33m<=\u001b[0m \u001b[0mQ\u001b[0m \u001b[1;32mfor\u001b[0m \u001b[0mp\u001b[0m \u001b[1;32min\u001b[0m \u001b[0mP\u001b[0m \u001b[1;32mfor\u001b[0m \u001b[0mt\u001b[0m \u001b[1;32min\u001b[0m \u001b[0mT\u001b[0m\u001b[1;33m)\u001b[0m\u001b[1;33m,\u001b[0m \u001b[0mname\u001b[0m\u001b[1;33m=\u001b[0m\u001b[1;34m\"R4\"\u001b[0m\u001b[1;33m)\u001b[0m\u001b[1;33m\u001b[0m\u001b[1;33m\u001b[0m\u001b[0m\n\u001b[0m\u001b[0;32m    121\u001b[0m \u001b[1;33m\u001b[0m\u001b[0m\n\u001b[0;32m    122\u001b[0m         \u001b[1;31m# R5: Un paciente puede estar en una cama no ideal\u001b[0m\u001b[1;33m\u001b[0m\u001b[1;33m\u001b[0m\u001b[1;33m\u001b[0m\u001b[0m\n",
      "\u001b[1;32msrc\\gurobipy\\linexpr.pxi\u001b[0m in \u001b[0;36mgurobipy.LinExpr.__richcmp__\u001b[1;34m()\u001b[0m\n",
      "\u001b[1;31mNotImplementedError\u001b[0m: "
     ]
    }
   ],
   "source": [
    "general_metrics, metrics_by_block = optimize_beds(130, 100, [1, 277, 50])\n",
    "metricas_ajuste = general_metrics\n",
    "print(general_metrics)\n",
    "\n",
    "general_metrics, metrics_by_block = optimize_beds(130, 100, [10, 3, 7])\n",
    "metricas_sin_ajuste = general_metrics\n",
    "print(general_metrics)"
   ]
  },
  {
   "cell_type": "code",
   "execution_count": 11,
   "metadata": {},
   "outputs": [
    {
     "output_type": "stream",
     "name": "stdout",
     "text": [
      "{'total_distance': 11700, 'beds_changed': 1, 'not_ideal': 69, 'status': 2, 'objective_1': 11700.0, 'objective_2': 0.0, 'objective_3': 69.0}\n\n{'total_distance': 8365, 'beds_changed': 6, 'not_ideal': 229, 'status': 2, 'objective_1': 8365.0, 'objective_2': 12.0, 'objective_3': 229.0}\n"
     ]
    }
   ],
   "source": [
    "print(metricas_ajuste)\n",
    "print()\n",
    "print(metricas_sin_ajuste)"
   ]
  },
  {
   "cell_type": "code",
   "execution_count": 2,
   "metadata": {},
   "outputs": [
    {
     "output_type": "stream",
     "name": "stdout",
     "text": [
      "w1: 1, w2: 277, w3: 50, total_distance=11700, beds_changed=0, not_ideal=69\n",
      "\n",
      "w1: 1, w2: 277, w3: 32, total_distance=10065, beds_changed=0, not_ideal=108\n",
      "\n",
      "w1: 1, w2: 277, w3: 14, total_distance=8985, beds_changed=0, not_ideal=178\n",
      "\n",
      "w1: 1, w2: 273, w3: 50, total_distance=11700, beds_changed=0, not_ideal=69\n",
      "\n",
      "w1: 1, w2: 273, w3: 32, total_distance=10065, beds_changed=0, not_ideal=108\n",
      "\n",
      "w1: 1, w2: 273, w3: 14, total_distance=8985, beds_changed=0, not_ideal=178\n",
      "\n",
      "w1: 1, w2: 269, w3: 50, total_distance=11700, beds_changed=0, not_ideal=69\n",
      "\n",
      "w1: 1, w2: 269, w3: 32, total_distance=10065, beds_changed=0, not_ideal=108\n",
      "\n",
      "w1: 1, w2: 269, w3: 14, total_distance=8985, beds_changed=0, not_ideal=178\n",
      "\n",
      "w1: 1, w2: 265, w3: 50, total_distance=11700, beds_changed=0, not_ideal=69\n",
      "\n",
      "w1: 1, w2: 265, w3: 32, total_distance=10065, beds_changed=0, not_ideal=108\n",
      "\n",
      "w1: 1, w2: 265, w3: 14, total_distance=8985, beds_changed=0, not_ideal=178\n",
      "\n",
      "w1: 1, w2: 261, w3: 50, total_distance=11700, beds_changed=0, not_ideal=69\n",
      "\n",
      "w1: 1, w2: 261, w3: 32, total_distance=10065, beds_changed=0, not_ideal=108\n",
      "\n",
      "w1: 1, w2: 261, w3: 14, total_distance=8985, beds_changed=0, not_ideal=178\n",
      "\n",
      "w1: 1, w2: 257, w3: 50, total_distance=11700, beds_changed=0, not_ideal=69\n",
      "\n",
      "w1: 1, w2: 257, w3: 32, total_distance=10065, beds_changed=0, not_ideal=108\n",
      "\n",
      "w1: 1, w2: 257, w3: 14, total_distance=8985, beds_changed=0, not_ideal=178\n",
      "\n",
      "w1: 1, w2: 253, w3: 50, total_distance=11700, beds_changed=0, not_ideal=69\n",
      "\n",
      "w1: 1, w2: 253, w3: 32, total_distance=10065, beds_changed=0, not_ideal=108\n",
      "\n",
      "w1: 1, w2: 253, w3: 14, total_distance=8985, beds_changed=0, not_ideal=178\n",
      "\n",
      "w1: 1, w2: 249, w3: 50, total_distance=11700, beds_changed=0, not_ideal=69\n",
      "\n",
      "w1: 1, w2: 249, w3: 32, total_distance=10065, beds_changed=0, not_ideal=108\n",
      "\n",
      "w1: 1, w2: 249, w3: 14, total_distance=8985, beds_changed=0, not_ideal=178\n",
      "\n"
     ]
    }
   ],
   "source": [
    "for i in range(0, 30, 4):\n",
    "    for j in range(0, 37, 18):\n",
    "        general_metrics, metrics_by_block = optimize_beds(130, 100, [1, 277 - i, 50 - j])\n",
    "        # 277 - i : i E [0, 28, 4]\n",
    "        # 50 - j : j E [0, 36, 18]\n",
    "        total_distance = general_metrics[\"total_distance\"]\n",
    "        beds_changed = general_metrics[\"beds_changed\"]\n",
    "        not_ideal = general_metrics[\"not_ideal\"]\n",
    "        print(f\"w1: {1}, w2: {277 - i}, w3: {50 - j}, {total_distance=}, {beds_changed=}, {not_ideal=}\")\n",
    "        print()"
   ]
  },
  {
   "source": [
    "Se puede apreciar que el promedio no fue un buen criterio para igualar los pesos, se le da mucha prioridad a que hayan pocos cambios de cama, y el cambio drástico en los cambios del peso 3."
   ],
   "cell_type": "markdown",
   "metadata": {}
  },
  {
   "cell_type": "code",
   "execution_count": 3,
   "metadata": {},
   "outputs": [
    {
     "output_type": "stream",
     "name": "stdout",
     "text": [
      "w1: 1, w2: 200, w3: 100, total_distance=14545, beds_changed=0, not_ideal=24\n",
      "\n",
      "w1: 1, w2: 200, w3: 95, total_distance=14545, beds_changed=0, not_ideal=24\n",
      "\n",
      "w1: 1, w2: 200, w3: 90, total_distance=14545, beds_changed=0, not_ideal=24\n",
      "\n",
      "w1: 1, w2: 200, w3: 85, total_distance=14545, beds_changed=0, not_ideal=24\n",
      "\n",
      "w1: 1, w2: 200, w3: 80, total_distance=14545, beds_changed=0, not_ideal=24\n",
      "\n",
      "w1: 1, w2: 200, w3: 75, total_distance=14545, beds_changed=0, not_ideal=24\n",
      "\n",
      "w1: 1, w2: 200, w3: 70, total_distance=13645, beds_changed=0, not_ideal=36\n",
      "\n",
      "w1: 1, w2: 190, w3: 100, total_distance=14545, beds_changed=0, not_ideal=24\n",
      "\n",
      "w1: 1, w2: 190, w3: 95, total_distance=14545, beds_changed=0, not_ideal=24\n",
      "\n",
      "w1: 1, w2: 190, w3: 90, total_distance=14545, beds_changed=0, not_ideal=24\n",
      "\n",
      "w1: 1, w2: 190, w3: 85, total_distance=14545, beds_changed=0, not_ideal=24\n",
      "\n",
      "w1: 1, w2: 190, w3: 80, total_distance=14545, beds_changed=0, not_ideal=24\n",
      "\n",
      "w1: 1, w2: 190, w3: 75, total_distance=14545, beds_changed=0, not_ideal=24\n",
      "\n",
      "w1: 1, w2: 190, w3: 70, total_distance=13645, beds_changed=0, not_ideal=36\n",
      "\n",
      "w1: 1, w2: 180, w3: 100, total_distance=14545, beds_changed=0, not_ideal=24\n",
      "\n",
      "w1: 1, w2: 180, w3: 95, total_distance=14545, beds_changed=0, not_ideal=24\n",
      "\n",
      "w1: 1, w2: 180, w3: 90, total_distance=14545, beds_changed=0, not_ideal=24\n",
      "\n",
      "w1: 1, w2: 180, w3: 85, total_distance=14545, beds_changed=0, not_ideal=24\n",
      "\n",
      "w1: 1, w2: 180, w3: 80, total_distance=14545, beds_changed=0, not_ideal=24\n",
      "\n",
      "w1: 1, w2: 180, w3: 75, total_distance=14545, beds_changed=0, not_ideal=24\n",
      "\n",
      "w1: 1, w2: 180, w3: 70, total_distance=13645, beds_changed=0, not_ideal=36\n",
      "\n",
      "w1: 1, w2: 170, w3: 100, total_distance=14545, beds_changed=0, not_ideal=24\n",
      "\n",
      "w1: 1, w2: 170, w3: 95, total_distance=14545, beds_changed=0, not_ideal=24\n",
      "\n",
      "w1: 1, w2: 170, w3: 90, total_distance=14545, beds_changed=0, not_ideal=24\n",
      "\n",
      "w1: 1, w2: 170, w3: 85, total_distance=14545, beds_changed=0, not_ideal=24\n",
      "\n",
      "w1: 1, w2: 170, w3: 80, total_distance=14545, beds_changed=0, not_ideal=24\n",
      "\n",
      "w1: 1, w2: 170, w3: 75, total_distance=14545, beds_changed=0, not_ideal=24\n",
      "\n",
      "w1: 1, w2: 170, w3: 70, total_distance=13645, beds_changed=0, not_ideal=36\n",
      "\n"
     ]
    }
   ],
   "source": [
    "for i in range(0, 31, 10):\n",
    "    for j in range(0, 31, 5): \n",
    "        general_metrics, metrics_by_block = optimize_beds(130, 100, [1, 200 - i, 100 - j])\n",
    "        total_distance = general_metrics[\"total_distance\"]\n",
    "        beds_changed = general_metrics[\"beds_changed\"]\n",
    "        not_ideal = general_metrics[\"not_ideal\"]\n",
    "        print(f\"w1: {1}, w2: {200 - i}, w3: {100 - j}, {total_distance=}, {beds_changed=}, {not_ideal=}\")\n",
    "        print()"
   ]
  },
  {
   "source": [
    "Podemos notar que la funcion 2 sigue con mucha prioridad, la funcion 3 tambien gano harta prioridad, pero los cambios ya no son tan drasticos, procederemos a bajar las constantes de peso"
   ],
   "cell_type": "markdown",
   "metadata": {}
  },
  {
   "cell_type": "code",
   "execution_count": 4,
   "metadata": {},
   "outputs": [
    {
     "output_type": "stream",
     "name": "stdout",
     "text": [
      "w1: 1, w2: 100, w3: 70, total_distance=13645, beds_changed=0, not_ideal=36\n",
      "\n",
      "w1: 1, w2: 100, w3: 65, total_distance=13645, beds_changed=0, not_ideal=36\n",
      "\n",
      "w1: 1, w2: 100, w3: 60, total_distance=12360, beds_changed=0, not_ideal=57\n",
      "\n",
      "w1: 1, w2: 100, w3: 55, total_distance=11700, beds_changed=0, not_ideal=69\n",
      "\n",
      "w1: 1, w2: 100, w3: 50, total_distance=11700, beds_changed=0, not_ideal=69\n",
      "\n",
      "w1: 1, w2: 100, w3: 45, total_distance=10670, beds_changed=0, not_ideal=91\n",
      "\n"
     ]
    }
   ],
   "source": [
    "for i in range(0, 31, 10):\n",
    "    for j in range(0, 31, 5):\n",
    "        general_metrics, metrics_by_block = optimize_beds(130, 100, [1, 100 - i, 70 - j])\n",
    "        total_distance = general_metrics[\"total_distance\"]\n",
    "        beds_changed = general_metrics[\"beds_changed\"]\n",
    "        not_ideal = general_metrics[\"not_ideal\"]\n",
    "        print(f\"w1: {1}, w2: {100 - i}, w3: {70 - j}, {total_distance=}, {beds_changed=}, {not_ideal=}\")\n",
    "        print()"
   ]
  },
  {
   "source": [],
   "cell_type": "markdown",
   "metadata": {}
  },
  {
   "cell_type": "code",
   "execution_count": 2,
   "metadata": {},
   "outputs": [
    {
     "output_type": "stream",
     "name": "stdout",
     "text": [
      "w1: 1, w2: 50, w3: 60, total_distance=12360, beds_changed=0, not_ideal=57\n",
      "\n",
      "w1: 1, w2: 50, w3: 55, total_distance=11700, beds_changed=0, not_ideal=69\n",
      "\n",
      "w1: 1, w2: 50, w3: 50, total_distance=11700, beds_changed=0, not_ideal=69\n",
      "\n",
      "w1: 1, w2: 50, w3: 45, total_distance=10670, beds_changed=0, not_ideal=91\n",
      "\n",
      "w1: 1, w2: 50, w3: 40, total_distance=10670, beds_changed=0, not_ideal=91\n",
      "\n",
      "w1: 1, w2: 50, w3: 35, total_distance=10375, beds_changed=0, not_ideal=99\n",
      "\n",
      "w1: 1, w2: 50, w3: 30, total_distance=10065, beds_changed=0, not_ideal=108\n",
      "\n",
      "w1: 1, w2: 50, w3: 25, total_distance=10065, beds_changed=0, not_ideal=108\n",
      "\n",
      "w1: 1, w2: 50, w3: 20, total_distance=9920, beds_changed=0, not_ideal=115\n",
      "\n",
      "w1: 1, w2: 50, w3: 15, total_distance=9485, beds_changed=0, not_ideal=144\n",
      "\n",
      "w1: 1, w2: 50, w3: 10, total_distance=8650, beds_changed=0, not_ideal=209\n",
      "\n",
      "w1: 1, w2: 45, w3: 60, total_distance=12360, beds_changed=0, not_ideal=57\n",
      "\n",
      "w1: 1, w2: 45, w3: 55, total_distance=11700, beds_changed=0, not_ideal=69\n",
      "\n",
      "w1: 1, w2: 45, w3: 50, total_distance=11700, beds_changed=0, not_ideal=69\n",
      "\n",
      "w1: 1, w2: 45, w3: 45, total_distance=10670, beds_changed=0, not_ideal=91\n",
      "\n",
      "w1: 1, w2: 45, w3: 40, total_distance=10670, beds_changed=0, not_ideal=91\n",
      "\n",
      "w1: 1, w2: 45, w3: 35, total_distance=10375, beds_changed=0, not_ideal=99\n",
      "\n",
      "w1: 1, w2: 45, w3: 30, total_distance=10065, beds_changed=0, not_ideal=108\n",
      "\n",
      "w1: 1, w2: 45, w3: 25, total_distance=10065, beds_changed=0, not_ideal=108\n",
      "\n",
      "w1: 1, w2: 45, w3: 20, total_distance=9920, beds_changed=0, not_ideal=115\n",
      "\n",
      "w1: 1, w2: 45, w3: 15, total_distance=9380, beds_changed=0, not_ideal=151\n",
      "\n",
      "w1: 1, w2: 45, w3: 10, total_distance=8650, beds_changed=0, not_ideal=209\n",
      "\n",
      "w1: 1, w2: 40, w3: 60, total_distance=12360, beds_changed=0, not_ideal=57\n",
      "\n",
      "w1: 1, w2: 40, w3: 55, total_distance=11700, beds_changed=0, not_ideal=69\n",
      "\n",
      "w1: 1, w2: 40, w3: 50, total_distance=11290, beds_changed=1, not_ideal=74\n",
      "\n",
      "w1: 1, w2: 40, w3: 45, total_distance=10780, beds_changed=1, not_ideal=85\n",
      "\n",
      "w1: 1, w2: 40, w3: 40, total_distance=10670, beds_changed=0, not_ideal=91\n",
      "\n",
      "w1: 1, w2: 40, w3: 35, total_distance=10295, beds_changed=1, not_ideal=99\n",
      "\n",
      "w1: 1, w2: 40, w3: 30, total_distance=10065, beds_changed=0, not_ideal=108\n",
      "\n",
      "w1: 1, w2: 40, w3: 25, total_distance=10065, beds_changed=0, not_ideal=108\n",
      "\n",
      "w1: 1, w2: 40, w3: 20, total_distance=9920, beds_changed=0, not_ideal=115\n",
      "\n",
      "w1: 1, w2: 40, w3: 15, total_distance=9485, beds_changed=0, not_ideal=144\n",
      "\n",
      "w1: 1, w2: 40, w3: 10, total_distance=8650, beds_changed=0, not_ideal=209\n",
      "\n",
      "w1: 1, w2: 35, w3: 60, total_distance=12360, beds_changed=0, not_ideal=57\n",
      "\n",
      "w1: 1, w2: 35, w3: 55, total_distance=12360, beds_changed=0, not_ideal=57\n",
      "\n",
      "w1: 1, w2: 35, w3: 50, total_distance=11290, beds_changed=1, not_ideal=74\n",
      "\n",
      "w1: 1, w2: 35, w3: 45, total_distance=10780, beds_changed=1, not_ideal=85\n",
      "\n",
      "w1: 1, w2: 35, w3: 40, total_distance=10670, beds_changed=0, not_ideal=91\n",
      "\n",
      "w1: 1, w2: 35, w3: 35, total_distance=10295, beds_changed=1, not_ideal=99\n",
      "\n",
      "w1: 1, w2: 35, w3: 30, total_distance=10065, beds_changed=0, not_ideal=108\n",
      "\n",
      "w1: 1, w2: 35, w3: 25, total_distance=10065, beds_changed=0, not_ideal=108\n",
      "\n",
      "w1: 1, w2: 35, w3: 20, total_distance=9920, beds_changed=0, not_ideal=115\n",
      "\n",
      "w1: 1, w2: 35, w3: 15, total_distance=9305, beds_changed=0, not_ideal=156\n",
      "\n",
      "w1: 1, w2: 35, w3: 10, total_distance=8770, beds_changed=0, not_ideal=197\n",
      "\n",
      "w1: 1, w2: 30, w3: 60, total_distance=12360, beds_changed=0, not_ideal=57\n",
      "\n",
      "w1: 1, w2: 30, w3: 55, total_distance=11950, beds_changed=1, not_ideal=62\n",
      "\n",
      "w1: 1, w2: 30, w3: 50, total_distance=11290, beds_changed=1, not_ideal=74\n",
      "\n",
      "w1: 1, w2: 30, w3: 45, total_distance=10780, beds_changed=1, not_ideal=85\n",
      "\n",
      "w1: 1, w2: 30, w3: 40, total_distance=10780, beds_changed=1, not_ideal=85\n",
      "\n",
      "w1: 1, w2: 30, w3: 35, total_distance=10295, beds_changed=1, not_ideal=99\n",
      "\n",
      "w1: 1, w2: 30, w3: 30, total_distance=10065, beds_changed=0, not_ideal=108\n",
      "\n",
      "w1: 1, w2: 30, w3: 25, total_distance=10065, beds_changed=0, not_ideal=108\n",
      "\n",
      "w1: 1, w2: 30, w3: 20, total_distance=9920, beds_changed=0, not_ideal=115\n",
      "\n",
      "w1: 1, w2: 30, w3: 15, total_distance=9380, beds_changed=0, not_ideal=151\n",
      "\n",
      "w1: 1, w2: 30, w3: 10, total_distance=8650, beds_changed=0, not_ideal=209\n",
      "\n",
      "w1: 1, w2: 25, w3: 60, total_distance=11950, beds_changed=1, not_ideal=62\n",
      "\n",
      "w1: 1, w2: 25, w3: 55, total_distance=11290, beds_changed=1, not_ideal=74\n",
      "\n",
      "w1: 1, w2: 25, w3: 50, total_distance=11290, beds_changed=1, not_ideal=74\n",
      "\n",
      "w1: 1, w2: 25, w3: 45, total_distance=10780, beds_changed=1, not_ideal=85\n",
      "\n",
      "w1: 1, w2: 25, w3: 40, total_distance=10405, beds_changed=2, not_ideal=93\n",
      "\n",
      "w1: 1, w2: 25, w3: 35, total_distance=10295, beds_changed=1, not_ideal=99\n",
      "\n",
      "w1: 1, w2: 25, w3: 30, total_distance=10015, beds_changed=1, not_ideal=108\n",
      "\n",
      "w1: 1, w2: 25, w3: 25, total_distance=10065, beds_changed=0, not_ideal=108\n",
      "\n",
      "w1: 1, w2: 25, w3: 20, total_distance=9920, beds_changed=0, not_ideal=115\n",
      "\n",
      "w1: 1, w2: 25, w3: 15, total_distance=9155, beds_changed=0, not_ideal=166\n",
      "\n",
      "w1: 1, w2: 25, w3: 10, total_distance=8650, beds_changed=0, not_ideal=209\n",
      "\n",
      "w1: 1, w2: 20, w3: 60, total_distance=11950, beds_changed=1, not_ideal=62\n",
      "\n",
      "w1: 1, w2: 20, w3: 55, total_distance=11290, beds_changed=1, not_ideal=74\n",
      "\n",
      "w1: 1, w2: 20, w3: 50, total_distance=11290, beds_changed=1, not_ideal=74\n",
      "\n",
      "w1: 1, w2: 20, w3: 45, total_distance=10780, beds_changed=1, not_ideal=85\n",
      "\n",
      "w1: 1, w2: 20, w3: 40, total_distance=10405, beds_changed=2, not_ideal=93\n",
      "\n",
      "w1: 1, w2: 20, w3: 35, total_distance=10405, beds_changed=2, not_ideal=93\n",
      "\n",
      "w1: 1, w2: 20, w3: 30, total_distance=10015, beds_changed=1, not_ideal=108\n",
      "\n",
      "w1: 1, w2: 20, w3: 25, total_distance=10015, beds_changed=1, not_ideal=108\n",
      "\n",
      "w1: 1, w2: 20, w3: 20, total_distance=10015, beds_changed=1, not_ideal=108\n",
      "\n",
      "w1: 1, w2: 20, w3: 15, total_distance=9380, beds_changed=0, not_ideal=151\n",
      "\n",
      "w1: 1, w2: 20, w3: 10, total_distance=8770, beds_changed=0, not_ideal=197\n",
      "\n",
      "w1: 1, w2: 15, w3: 60, total_distance=12170, beds_changed=3, not_ideal=56\n",
      "\n",
      "w1: 1, w2: 15, w3: 55, total_distance=11290, beds_changed=1, not_ideal=74\n",
      "\n",
      "w1: 1, w2: 15, w3: 50, total_distance=10945, beds_changed=3, not_ideal=79\n",
      "\n",
      "w1: 1, w2: 15, w3: 45, total_distance=10945, beds_changed=3, not_ideal=79\n",
      "\n",
      "w1: 1, w2: 15, w3: 40, total_distance=10405, beds_changed=2, not_ideal=93\n",
      "\n",
      "w1: 1, w2: 15, w3: 35, total_distance=10405, beds_changed=2, not_ideal=93\n",
      "\n",
      "w1: 1, w2: 15, w3: 30, total_distance=10125, beds_changed=2, not_ideal=102\n",
      "\n",
      "w1: 1, w2: 15, w3: 25, total_distance=9945, beds_changed=2, not_ideal=108\n",
      "\n",
      "w1: 1, w2: 15, w3: 20, total_distance=9945, beds_changed=2, not_ideal=108\n",
      "\n",
      "w1: 1, w2: 15, w3: 15, total_distance=9085, beds_changed=1, not_ideal=166\n",
      "\n",
      "w1: 1, w2: 15, w3: 10, total_distance=8770, beds_changed=0, not_ideal=197\n",
      "\n",
      "w1: 1, w2: 10, w3: 60, total_distance=12170, beds_changed=3, not_ideal=56\n",
      "\n",
      "w1: 1, w2: 10, w3: 55, total_distance=11510, beds_changed=3, not_ideal=68\n",
      "\n",
      "w1: 1, w2: 10, w3: 50, total_distance=10920, beds_changed=4, not_ideal=79\n",
      "\n",
      "w1: 1, w2: 10, w3: 45, total_distance=10920, beds_changed=4, not_ideal=79\n",
      "\n",
      "w1: 1, w2: 10, w3: 40, total_distance=10500, beds_changed=2, not_ideal=90\n",
      "\n",
      "w1: 1, w2: 10, w3: 35, total_distance=10405, beds_changed=2, not_ideal=93\n",
      "\n",
      "w1: 1, w2: 10, w3: 30, total_distance=9935, beds_changed=2, not_ideal=108\n",
      "\n",
      "w1: 1, w2: 10, w3: 25, total_distance=9935, beds_changed=2, not_ideal=108\n",
      "\n",
      "w1: 1, w2: 10, w3: 20, total_distance=9935, beds_changed=2, not_ideal=108\n",
      "\n",
      "w1: 1, w2: 10, w3: 15, total_distance=9235, beds_changed=1, not_ideal=156\n",
      "\n",
      "w1: 1, w2: 10, w3: 10, total_distance=8845, beds_changed=1, not_ideal=185\n",
      "\n",
      "w1: 1, w2: 5, w3: 60, total_distance=12130, beds_changed=5, not_ideal=56\n",
      "\n",
      "w1: 1, w2: 5, w3: 55, total_distance=11470, beds_changed=5, not_ideal=68\n",
      "\n",
      "w1: 1, w2: 5, w3: 50, total_distance=10895, beds_changed=5, not_ideal=79\n",
      "\n",
      "w1: 1, w2: 5, w3: 45, total_distance=10895, beds_changed=5, not_ideal=79\n",
      "\n",
      "w1: 1, w2: 5, w3: 40, total_distance=10920, beds_changed=4, not_ideal=79\n",
      "\n",
      "w1: 1, w2: 5, w3: 35, total_distance=10385, beds_changed=3, not_ideal=93\n",
      "\n",
      "w1: 1, w2: 5, w3: 30, total_distance=9935, beds_changed=2, not_ideal=108\n",
      "\n",
      "w1: 1, w2: 5, w3: 25, total_distance=9935, beds_changed=2, not_ideal=108\n",
      "\n",
      "w1: 1, w2: 5, w3: 20, total_distance=9935, beds_changed=2, not_ideal=108\n",
      "\n",
      "w1: 1, w2: 5, w3: 15, total_distance=9215, beds_changed=2, not_ideal=156\n",
      "\n",
      "w1: 1, w2: 5, w3: 10, total_distance=8755, beds_changed=2, not_ideal=190\n",
      "\n",
      "w1: 1, w2: 0, w3: 60, total_distance=12545, beds_changed=18, not_ideal=48\n",
      "\n",
      "w1: 1, w2: 0, w3: 55, total_distance=12105, beds_changed=19, not_ideal=56\n",
      "\n",
      "w1: 1, w2: 0, w3: 50, total_distance=11115, beds_changed=19, not_ideal=74\n",
      "\n",
      "w1: 1, w2: 0, w3: 45, total_distance=10885, beds_changed=16, not_ideal=79\n",
      "\n",
      "w1: 1, w2: 0, w3: 40, total_distance=10885, beds_changed=18, not_ideal=79\n",
      "\n",
      "w1: 1, w2: 0, w3: 35, total_distance=10620, beds_changed=16, not_ideal=86\n",
      "\n",
      "w1: 1, w2: 0, w3: 30, total_distance=10205, beds_changed=18, not_ideal=99\n",
      "\n",
      "w1: 1, w2: 0, w3: 25, total_distance=9845, beds_changed=19, not_ideal=111\n",
      "\n",
      "w1: 1, w2: 0, w3: 20, total_distance=9845, beds_changed=15, not_ideal=111\n",
      "\n",
      "w1: 1, w2: 0, w3: 15, total_distance=9125, beds_changed=19, not_ideal=159\n",
      "\n",
      "w1: 1, w2: 0, w3: 10, total_distance=8545, beds_changed=19, not_ideal=209\n",
      "\n"
     ]
    }
   ],
   "source": [
    "# ADVERTENCIA, NO CORRER\n",
    "# SE DEMORA COMO 7 HORAS EN CORRER TODOS ESTOS CASOS Y SE PERDERÁ EL OUTPUT DE ABAJO\n",
    "\n",
    "for i in range(0, 51, 5):\n",
    "    for j in range(0, 51, 5):\n",
    "        general_metrics, metrics_by_block = optimize_beds(130, 100, [1, 200 - i, 60 - j])\n",
    "        total_distance = general_metrics[\"total_distance\"]\n",
    "        beds_changed = general_metrics[\"beds_changed\"]\n",
    "        not_ideal = general_metrics[\"not_ideal\"]\n",
    "        print(f\"w1: {1}, w2: {50 - i}, w3: {60 - j}, {total_distance=}, {beds_changed=}, {not_ideal=}\")\n",
    "        print()"
   ]
  },
  {
   "cell_type": "code",
   "execution_count": 3,
   "metadata": {},
   "outputs": [
    {
     "output_type": "error",
     "ename": "KeyboardInterrupt",
     "evalue": "",
     "traceback": [
      "\u001b[1;31m---------------------------------------------------------------------------\u001b[0m",
      "\u001b[1;31mKeyboardInterrupt\u001b[0m                         Traceback (most recent call last)",
      "\u001b[1;32m<ipython-input-3-29688fd41fde>\u001b[0m in \u001b[0;36m<module>\u001b[1;34m\u001b[0m\n\u001b[0;32m      2\u001b[0m \u001b[1;32mfor\u001b[0m \u001b[0mi\u001b[0m \u001b[1;32min\u001b[0m \u001b[0mrange\u001b[0m\u001b[1;33m(\u001b[0m\u001b[1;36m0\u001b[0m\u001b[1;33m,\u001b[0m \u001b[1;36m6\u001b[0m\u001b[1;33m,\u001b[0m \u001b[1;36m1\u001b[0m\u001b[1;33m)\u001b[0m\u001b[1;33m:\u001b[0m\u001b[1;33m\u001b[0m\u001b[1;33m\u001b[0m\u001b[0m\n\u001b[0;32m      3\u001b[0m     \u001b[1;32mfor\u001b[0m \u001b[0mj\u001b[0m \u001b[1;32min\u001b[0m \u001b[0mrange\u001b[0m\u001b[1;33m(\u001b[0m\u001b[1;36m20\u001b[0m\u001b[1;33m,\u001b[0m \u001b[1;36m51\u001b[0m\u001b[1;33m,\u001b[0m \u001b[1;36m5\u001b[0m\u001b[1;33m)\u001b[0m\u001b[1;33m:\u001b[0m\u001b[1;33m\u001b[0m\u001b[1;33m\u001b[0m\u001b[0m\n\u001b[1;32m----> 4\u001b[1;33m         \u001b[0mgeneral_metrics\u001b[0m\u001b[1;33m,\u001b[0m \u001b[0mmetrics_by_block\u001b[0m \u001b[1;33m=\u001b[0m \u001b[0moptimize_beds\u001b[0m\u001b[1;33m(\u001b[0m\u001b[1;36m130\u001b[0m\u001b[1;33m,\u001b[0m \u001b[1;36m100\u001b[0m\u001b[1;33m,\u001b[0m \u001b[1;33m[\u001b[0m\u001b[1;36m1\u001b[0m\u001b[1;33m,\u001b[0m \u001b[0mi\u001b[0m\u001b[1;33m,\u001b[0m \u001b[0mj\u001b[0m\u001b[1;33m]\u001b[0m\u001b[1;33m)\u001b[0m\u001b[1;33m\u001b[0m\u001b[1;33m\u001b[0m\u001b[0m\n\u001b[0m\u001b[0;32m      5\u001b[0m         \u001b[0mtotal_distance\u001b[0m \u001b[1;33m=\u001b[0m \u001b[0mgeneral_metrics\u001b[0m\u001b[1;33m[\u001b[0m\u001b[1;34m\"total_distance\"\u001b[0m\u001b[1;33m]\u001b[0m\u001b[1;33m\u001b[0m\u001b[1;33m\u001b[0m\u001b[0m\n\u001b[0;32m      6\u001b[0m         \u001b[0mbeds_changed\u001b[0m \u001b[1;33m=\u001b[0m \u001b[0mgeneral_metrics\u001b[0m\u001b[1;33m[\u001b[0m\u001b[1;34m\"beds_changed\"\u001b[0m\u001b[1;33m]\u001b[0m\u001b[1;33m\u001b[0m\u001b[1;33m\u001b[0m\u001b[0m\n",
      "\u001b[1;32mc:\\Users\\iamsm\\Documents\\Acceso UC\\Opti\\Proyecto\\optint\\model.py\u001b[0m in \u001b[0;36moptimize_beds\u001b[1;34m(n_beds, n_patients, cost)\u001b[0m\n\u001b[0;32m    198\u001b[0m         \u001b[1;31m# m.write(\"archivo/iis.ilp\") -> Acá lo escribe, se deben descomentar ambas lineas para visualizarlo\u001b[0m\u001b[1;33m\u001b[0m\u001b[1;33m\u001b[0m\u001b[1;33m\u001b[0m\u001b[0m\n\u001b[0;32m    199\u001b[0m \u001b[1;33m\u001b[0m\u001b[0m\n\u001b[1;32m--> 200\u001b[1;33m         \u001b[0mm\u001b[0m\u001b[1;33m.\u001b[0m\u001b[0moptimize\u001b[0m\u001b[1;33m(\u001b[0m\u001b[1;33m)\u001b[0m\u001b[1;33m\u001b[0m\u001b[1;33m\u001b[0m\u001b[0m\n\u001b[0m\u001b[0;32m    201\u001b[0m         \u001b[1;31m# m.update()\u001b[0m\u001b[1;33m\u001b[0m\u001b[1;33m\u001b[0m\u001b[1;33m\u001b[0m\u001b[0m\n\u001b[0;32m    202\u001b[0m \u001b[1;33m\u001b[0m\u001b[0m\n",
      "\u001b[1;31mKeyboardInterrupt\u001b[0m: "
     ]
    }
   ],
   "source": [
    "datos = []\n",
    "for i in range(0, 6)[::-1]:\n",
    "    for j in range(20, 51, 5):\n",
    "        general_metrics, metrics_by_block = optimize_beds(130, 100, [1, i, j])\n",
    "        total_distance = general_metrics[\"total_distance\"]\n",
    "        beds_changed = general_metrics[\"beds_changed\"]\n",
    "        not_ideal = general_metrics[\"not_ideal\"]\n",
    "        print(f\"w1: {1}, w2: {i}, w3: {j}, {total_distance=}, {beds_changed=}, {not_ideal=}\")\n",
    "        datos.append((1, i, j, general_metrics, metrics_by_block))\n",
    "        print()"
   ]
  }
 ]
}